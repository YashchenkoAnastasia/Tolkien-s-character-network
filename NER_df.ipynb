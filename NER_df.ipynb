{
 "cells": [
  {
   "cell_type": "code",
   "execution_count": 1,
   "metadata": {},
   "outputs": [],
   "source": [
    "import os\n",
    "import glob\n",
    "import codecs\n",
    "import spacy\n",
    "import json\n",
    "import pandas as pd\n",
    "import numpy as np\n",
    "import networkx as nx\n",
    "\n",
    "import nltk\n",
    "from nltk.tokenize import sent_tokenize\n",
    "import spacy\n",
    "from spacy import displacy\n",
    "from collections import Counter\n",
    "\n",
    "from pathlib import Path\n",
    "from pyspark import SparkContext\n",
    "from afinn import Afinn\n",
    "from sklearn.feature_extraction.text import CountVectorizer"
   ]
  },
  {
   "cell_type": "code",
   "execution_count": 2,
   "metadata": {},
   "outputs": [],
   "source": [
    "import en_core_web_sm\n",
    "\n",
    "nlp = en_core_web_sm.load()"
   ]
  },
  {
   "cell_type": "code",
   "execution_count": 3,
   "metadata": {},
   "outputs": [],
   "source": [
    "import re"
   ]
  },
  {
   "cell_type": "code",
   "execution_count": 4,
   "metadata": {},
   "outputs": [],
   "source": [
    "def flatten(input_list):\n",
    "    '''\n",
    "    A function to flatten complex list.\n",
    "    :param input_list: The list to be flatten\n",
    "    :return: the flattened list.\n",
    "    '''\n",
    "\n",
    "    flat_list = []\n",
    "    for i in input_list:\n",
    "        if type(i) == list:\n",
    "            flat_list += flatten(i)\n",
    "        else:\n",
    "            flat_list += [i]\n",
    "\n",
    "    return flat_list\n",
    "\n",
    "\n",
    "def name_entity_recognition(sentence,names_list):\n",
    "    '''\n",
    "    A function to retrieve name entities in a sentence.\n",
    "    :param sentence: the sentence to retrieve names from.\n",
    "    :return: a name entity list of the sentence.\n",
    "    '''\n",
    "\n",
    "    doc = nlp(sentence)\n",
    "    # retrieve person and organization's name from the sentence\n",
    "    name_entity = [x for x in doc.ents if x.label_ in ['PERSON', 'ORG']]\n",
    "    # convert all names to lowercase and remove 's in names\n",
    "    name_entity = [str(x).lower().replace(\"'s\",\"\") for x in name_entity]\n",
    "    # split names into single words ('Harry Potter' -> ['Harry', 'Potter'])\n",
    "    name_entity = [x.split(' ') for x in name_entity]\n",
    "    # flatten the name list\n",
    "    name_entity = flatten(name_entity)\n",
    "    # remove name words that are less than 3 letters to raise recognition accuracy\n",
    "    name_entity = [x for x in name_entity if len(x) >= 3]\n",
    "    # remove name words that are in the set of 4000 common words\n",
    "    name_entity = [x for x in name_entity if x not in common_words]\n",
    "    # remove name words that are in the set of races\n",
    "    name_entity = [x for x in name_entity if x not in races]\n",
    "    #print(name_entity)\n",
    "    for name in name_entity:\n",
    "        names_list.append(name)\n",
    "    return name_entity"
   ]
  },
  {
   "cell_type": "code",
   "execution_count": 23,
   "metadata": {},
   "outputs": [],
   "source": [
    "sent_file = open(r'C:\\Users\\NYashch\\nyashch-projects\\all_sentences.txt','r',encoding = 'utf-8')\n",
    "all_sentences = [line.strip() for line in sent_file]\n",
    "sent_file.close()\n",
    "tolkien_text = ''.join(all_sentences)"
   ]
  },
  {
   "cell_type": "code",
   "execution_count": 26,
   "metadata": {},
   "outputs": [
    {
     "name": "stdout",
     "output_type": "stream",
     "text": [
      "['', '', '', '', '', '', '', '', 'OF THE RUIN OF BELERIAND 185', \"before the face of his captains; for the rocks rang with the shrill music of Fingolfin's horn, and his voice came keen and clear down into the depths of Angband; and Fingolfin named Morgoth craven, and lord of slaves.\", 'Therefore Morgoth came, climbing slowly from his subterranean throne, and the rumour of his feet was like thunder underground.', 'And he issued forth clad in black armour; and he stood before the King like a tower, iron-crowned, and his vast shield, sable un-blazoned, cast a shadow over him like a stormcloud.', 'But Fingolfin gleamed beneath it as a star; for his mail was overlaid with silver, and his blue shield was set with crystals; and he drew his sword Ringil, that glittered like ice.', 'Then Morgoth hurled aloft Grond, the Hammer of the Underworld, and swung it down like a bolt of thunder.', 'But Fingolfin sprang aside, and Grond rent a mighty pit in the earth, whence smoke and fire darted.', 'Many times Morgoth essayed to smite him, and each time Fingolfin leaped away, as a lightning shoots from under a dark cloud; and he wounded Morgoth with seven wounds, and seven times Morgoth gave a cry of anguish, whereat the hosts of Angband fell upon their faces in dismay, and the cries echoed in the Northlands.', 'But at the last the King grew weary, and Morgoth bore down his shield upon him.', 'Thrice he was crushed to his knees, and thrice arose again and bore up his broken shield and stricken helm.', 'But the earth was all rent and pitted about him, and he stumbled and fell backward before the feet of Morgoth; and Morgoth set his left foot upon his neck, and the weight of it was like a fallen hill.', 'Yet with his last and desperate stroke Fingolfin hewed the foot with Ringil, and the blood gushed forth black and smoking and filled the pits of Grond.', 'Thus died Fingolfin, High King of the Noldor, most proud and valiant of the Elven-kings of old.', 'The Orcs made no boast of that duel at the gate; neither do the Elves sing of it, for their sorrow is too deep.', 'Yet the', '', '', '', '', '', '', '', '', '', '', '', '\\ufeff', '', '', '', '', '', '', '', '', '', '186 THE SILMARILLION', 'tale of it is remembered still, for Thorondor King of Eagles brought the tidings to Gondolin, and to Hithlum afar off.', 'And Morgoth took the body of the Elven-king and broke it, and would cast it to his wolves; but Thorondor came hasting from his eyrie among the peaks of the Crissaegrim, and he stooped upon Morgoth and marred his face.', 'The rushing of the wings of Thorondor was like the noise of the winds of Manwë, and he seized the body in his mighty talons, and soaring suddenly above the darts of the Orcs he bore the King away.', 'And he laid him upon a mountain-top that looked from the north upon the hidden valley of Gondolin; and Turgon coming built a high cairn over his father.', 'No Orc dared ever after to pass over the mount of Fingolfin or draw nigh his tomb, until the doom of Gondolin was come and treachery was born among his kin.']\n"
     ]
    }
   ],
   "source": [
    "print(all_sentences[5500:5550])"
   ]
  },
  {
   "cell_type": "code",
   "execution_count": 37,
   "metadata": {},
   "outputs": [],
   "source": [
    "'''\n",
    "tolkien_text_new = []\n",
    "for sent in tolkien_text.split('.'):\n",
    "    list_sent = sent.split()\n",
    "    if 'Mithrandir' in list_sent:\n",
    "        new_sent = sent.replace('Mithrandir', 'gendalf')\n",
    "        tolkien_text_new.append(new_sent)\n",
    "    elif 'Strider' in list_sent:\n",
    "        new_sent = sent.replace('Strider', 'aragorn')\n",
    "        tolkien_text_new.append(new_sent)\n",
    "    elif 'Gamgee' in list_sent:\n",
    "        new_sent = sent.replace('Gamgee', 'sam')\n",
    "        tolkien_text_new.append(new_sent)\n",
    "    elif 'Meriadoc' in list_sent:\n",
    "        new_sent = sent.replace('Meriadoc', 'merry')\n",
    "        tolkien_text_new.append(new_sent)\n",
    "    elif 'Peregrin' in list_sent:\n",
    "        new_sent = sent.replace('Peregrin', 'pippin')\n",
    "        tolkien_text_new.append(new_sent)\n",
    "    else:\n",
    "        tolkien_text_new.append(new_sent)\n",
    "'''"
   ]
  },
  {
   "cell_type": "code",
   "execution_count": 47,
   "metadata": {},
   "outputs": [],
   "source": [
    "'''names = []\n",
    "f = open(r'C:\\Users\\NYashch\\nyashch-projects\\my_names.txt','r',encoding = 'utf-8')\n",
    "for elem in f.readlines():\n",
    "    elem = elem.replace(\"\\n\",\"\")\n",
    "    names.append(elem)\n",
    "'''"
   ]
  },
  {
   "cell_type": "code",
   "execution_count": 7,
   "metadata": {},
   "outputs": [],
   "source": [
    "import re \n",
    "my_hobbits = open(r'C:\\Users\\NYashch\\nyashch-projects\\Diploma\\my_hobbits.txt','r',encoding = 'utf-8')\n",
    "hobbits = []\n",
    "for elem in my_hobbits.readlines():\n",
    "    if len(elem) > 4:\n",
    "        elem = elem.replace(\"\\n\",\"\")\n",
    "        elem = elem.replace(\"\\r\",\"\")\n",
    "        hobbits.append(elem.lower().split()[0])\n",
    "\n",
    "d_hobbits = dict.fromkeys(hobbits, 'hobbit')\n",
    "\n",
    "my_dwarves = open(r'C:\\Users\\NYashch\\nyashch-projects\\Diploma\\my_dwarves.txt','r',encoding = 'utf-8')\n",
    "dwarves = []\n",
    "\n",
    "for elem in my_dwarves.readlines():\n",
    "    if len(elem) > 4:\n",
    "        elem = elem.replace(\"\\n\",\"\")\n",
    "        elem = elem.replace(\"\\r\",\"\")\n",
    "        dwarves.append(elem.lower().split()[0])\n",
    "d_dwarves = dict.fromkeys(dwarves, 'dwarf')\n",
    "my_elves = open(r'C:\\Users\\NYashch\\nyashch-projects\\Diploma\\my_elves.txt','r',encoding = 'utf-8')\n",
    "elves = []\n",
    "for elem in my_elves .readlines():\n",
    "    if len(elem) > 4:\n",
    "        elem = elem.replace(\"\\n\",\"\")\n",
    "        elem = elem.replace(\"\\r\",\"\")\n",
    "        elves.append(elem.lower().split()[0])\n",
    "d_elves = dict.fromkeys(elves, 'elf')\n",
    "my_maiar = open(r'C:\\Users\\NYashch\\nyashch-projects\\Diploma\\my_maiar.txt','r',encoding = 'utf-8')\n",
    "maiar = []\n",
    "for elem in my_maiar.readlines():\n",
    "    if len(elem) > 4:\n",
    "        elem = elem.replace(\"\\n\",\"\")\n",
    "        elem = elem.replace(\"\\r\",\"\")\n",
    "        maiar.append(elem.lower().split()[0])\n",
    "d_maiar = dict.fromkeys(maiar, 'maiar')\n",
    "my_orcs = open(r'C:\\Users\\NYashch\\nyashch-projects\\Diploma\\my_orcs.txt','r',encoding = 'utf-8')\n",
    "orcs = []\n",
    "for elem in my_orcs.readlines():\n",
    "    if len(elem) > 4:\n",
    "        elem = elem.replace(\"\\n\",\"\")\n",
    "        elem = elem.replace(\"\\r\",\"\")\n",
    "        orcs.append(elem.lower().split()[0])\n",
    "d_orcs = dict.fromkeys(orcs, 'orc')\n",
    "my_men = open(r'C:\\Users\\NYashch\\nyashch-projects\\Diploma\\my_men.txt','r',encoding = 'utf-8')\n",
    "men = []\n",
    "for elem in my_men.readlines():\n",
    "    if len(elem) > 4:\n",
    "        elem = elem.replace(\"\\n\",\"\")\n",
    "        elem = elem.replace(\"\\r\",\"\")\n",
    "        men.append(elem.lower().split()[0])\n",
    "d_men = dict.fromkeys(men, 'men')\n",
    "my_valars = open(r'C:\\Users\\NYashch\\nyashch-projects\\Diploma\\my_valars.txt','r',encoding = 'utf-8')\n",
    "valars = []\n",
    "for elem in my_valars.readlines():\n",
    "    if len(elem) > 4:\n",
    "        elem = elem.replace(\"\\n\",\"\")\n",
    "        elem = elem.replace(\"\\r\",\"\")\n",
    "        valars.append(elem.lower())\n",
    "d_valars = dict.fromkeys(valars, 'valar')\n",
    "ainur = [\"ainur\",'aluin','danuin','fanuin','morgoth','ranuin']\n",
    "d_ainur = dict.fromkeys(ainur, 'ainur')\n",
    "barlogs = ['gothmog','lungorthin','osombauko']\n",
    "d_barlogs = dict.fromkeys(barlogs, 'barlog')\n",
    "dragons = ['ancalagon','chrysophylax','glaurung','gostir','scatha','smaug','urulókë']\n",
    "d_dragons = dict.fromkeys(dragons, 'dragon')\n",
    "eagles = ['gwaihir','landroval','meneldor','thornhoth','thorondor','windlord']\n",
    "d_eagles = dict.fromkeys(eagles, 'eagle')\n",
    "ents = ['beechbone','entings','entmaidens','entmoot','entwives','fimbrethil','leaflock','onodrim','quickbeam','skinbark','treebeard']\n",
    "d_ents = dict.fromkeys(ents, 'ent')\n",
    "half_elven = ['ardamir eärendil','arwen','dior','eärendil','elladan','elrohir','elrond','elros','elurín','elwing','undómiel']\n",
    "d_half_elven = dict.fromkeys(half_elven, 'half_elf')\n",
    "werewolves = ['carcharoth','draugluin','thû']\n",
    "d_werewolves = dict.fromkeys(werewolves, 'werewolf')\n",
    "trolls = ['bert','olog-hai','tom','william']\n",
    "d_trolls = dict.fromkeys(trolls, 'troll')\n"
   ]
  },
  {
   "cell_type": "code",
   "execution_count": 8,
   "metadata": {},
   "outputs": [
    {
     "name": "stdout",
     "output_type": "stream",
     "text": [
      "15 рас\n"
     ]
    }
   ],
   "source": [
    "all_names = hobbits + dwarves +elves+maiar+orcs+men+valars+ainur+barlogs+dragons+eagles+ents+half_elven+werewolves+trolls\n",
    "print('15 рас')"
   ]
  },
  {
   "cell_type": "code",
   "execution_count": 9,
   "metadata": {},
   "outputs": [],
   "source": [
    "names = list(set(all_names))"
   ]
  },
  {
   "cell_type": "code",
   "execution_count": 10,
   "metadata": {},
   "outputs": [
    {
     "name": "stdout",
     "output_type": "stream",
     "text": [
      "517\n"
     ]
    }
   ],
   "source": [
    "print(len(names))"
   ]
  },
  {
   "cell_type": "code",
   "execution_count": 17,
   "metadata": {},
   "outputs": [
    {
     "name": "stdout",
     "output_type": "stream",
     "text": [
      "\n"
     ]
    }
   ],
   "source": [
    "print(all_sentences[140])"
   ]
  },
  {
   "cell_type": "code",
   "execution_count": 11,
   "metadata": {},
   "outputs": [],
   "source": [
    "\n",
    "names.append('sam')"
   ]
  },
  {
   "cell_type": "code",
   "execution_count": 12,
   "metadata": {},
   "outputs": [
    {
     "name": "stdout",
     "output_type": "stream",
     "text": [
      "518\n"
     ]
    }
   ],
   "source": [
    "print(len(names))"
   ]
  },
  {
   "cell_type": "code",
   "execution_count": 27,
   "metadata": {},
   "outputs": [],
   "source": [
    "color_map = {}\n",
    "for name in names:\n",
    "    if name in d_hobbits:\n",
    "        color_map[name] ='#FFE4B5'\n",
    "    elif name in d_elves:\n",
    "        color_map[name] ='#00FF00'\n",
    "    elif name in  d_dwarves:\n",
    "        color_map[name] ='#808000'\n",
    "    elif name in  d_trolls:\n",
    "        color_map[name] ='#B8860B'\n",
    "    elif name in  d_werewolves:\n",
    "        color_map[name] ='#DCDCDC'\n",
    "    elif name in  d_ents:\n",
    "        color_map[name] ='#228B22'\n",
    "    elif name in  d_half_elven:\n",
    "        color_map[name] ='#98FB98'\n",
    "    elif name in  d_eagles:\n",
    "        color_map[name] ='#4B0082'\n",
    "    elif name in  d_dragons:\n",
    "        color_map[name] ='#800080'\n",
    "    elif name in  d_barlogs:\n",
    "        color_map[name] ='#800000'\n",
    "    elif name in  d_ainur:\n",
    "        color_map[name] ='#00FFFF'\n",
    "    elif name in  d_valars:\n",
    "        color_map[name] ='#FFFFF0'\n",
    "    elif name in  d_orcs:\n",
    "        color_map[name] ='#D2B48C'\n",
    "    elif name in  d_men:\n",
    "        color_map[name] ='#008080'\n",
    "    elif name in  d_maiar:\n",
    "        color_map[name] ='#000080'\n",
    "    elif name == 'manwë':\n",
    "        color_map[name] ='#FFFFF0'\n",
    "    elif name == 'sam':\n",
    "        color_map[name] ='#FFE4B5'\n",
    "    elif name == 'melkor':\n",
    "        color_map[name] ='#000080'\n",
    "    elif name =='pippin':\n",
    "        color_map[name] ='#FFE4B5'\n",
    "    elif name == 'arda':\n",
    "        color_map[name] ='#000080'\n",
    "\n",
    "    else:\n",
    "        names.remove(name)\n",
    " \n"
   ]
  },
  {
   "cell_type": "code",
   "execution_count": 28,
   "metadata": {},
   "outputs": [],
   "source": [
    "cm_file = open(r'C:\\Users\\NYashch\\nyashch-projects\\Diploma\\common_words.txt', 'r')\n",
    "cm_lines = [line.strip() for line in cm_file]\n",
    "cm_file.close()\n",
    "common_words = []\n",
    "for word in cm_lines:\n",
    "    all_cm = word.split(',')\n",
    "    for cm in all_cm:\n",
    "           common_words.append(cm)\n",
    "common_words.append('the')\n",
    "races = ['trolls','troll', 'werewolves','werewolf', 'half_elven','elf', 'ents','ent', 'eagles','eagle','dragons','dragon', 'barlogs','barlog','ainur','hobbit','hobbits','dwarves','dwarf', 'elves', 'maiar', 'orcs', 'orc', 'valar','valars']"
   ]
  },
  {
   "cell_type": "code",
   "execution_count": 29,
   "metadata": {},
   "outputs": [],
   "source": [
    "ner_sentences = []\n",
    "for sent in all_sentences:\n",
    "    ners = []\n",
    "    for name in names:\n",
    "        if name in sent.lower().split():\n",
    "            ners.append(name)\n",
    "    if len(ners)>1: # был 0\n",
    "        ner_sentences.append(sent)"
   ]
  },
  {
   "cell_type": "code",
   "execution_count": 30,
   "metadata": {},
   "outputs": [
    {
     "name": "stdout",
     "output_type": "stream",
     "text": [
      "156482\n",
      "17286\n"
     ]
    }
   ],
   "source": [
    "print(len(all_sentences))\n",
    "print(len(ner_sentences))"
   ]
  },
  {
   "cell_type": "code",
   "execution_count": 31,
   "metadata": {},
   "outputs": [
    {
     "data": {
      "text/plain": [
       "\"color_map = []\\nfor name in names:\\n    if name in d_hobbits:\\n        color_map.append('#FFE4B5')\\n    elif name in d_elves:\\n        color_map.append('#00FF00')\\n    elif name in  d_dwarves:\\n        color_map.append('#808000')\\n    elif name in  d_trolls:\\n        color_map.append('#B8860B')\\n    elif name in  d_werewolves:\\n        color_map.append('#DCDCDC')\\n    elif name in  d_ents:\\n        color_map.append('#228B22')\\n    elif name in  d_half_elven:\\n        color_map.append('#98FB98')\\n    elif name in  d_eagles:\\n        color_map.append('#4B0082')\\n    elif name in  d_dragons:\\n        color_map.append('#800080')\\n    elif name in  d_barlogs:\\n        color_map.append('#800000')\\n    elif name in  d_ainur:\\n        color_map.append('#00FFFF')\\n    elif name in  d_valars:\\n        color_map.append('#FFFFF0')\\n    elif name in  d_orcs:\\n        color_map.append('#D2B48C')\\n    elif name in  d_men:\\n        color_map.append('#008080')\\n    elif name in  d_maiar:\\n        color_map.append('#000080')\\n    elif name == 'manwë':\\n        color_map.append('#FFFFF0')\\n    elif name == 'sam':\\n        color_map.append('#FFE4B5')\\n    elif name == 'melkor':\\n        color_map.append('#000080')\\n    elif name =='pippin':\\n        color_map.append('#FFE4B5')\\n    else:\\n        color_map.append('#000000')\\n        names.remove(name)\\n\""
      ]
     },
     "execution_count": 31,
     "metadata": {},
     "output_type": "execute_result"
    }
   ],
   "source": [
    "'''color_map = []\n",
    "for name in names:\n",
    "    if name in d_hobbits:\n",
    "        color_map.append('#FFE4B5')\n",
    "    elif name in d_elves:\n",
    "        color_map.append('#00FF00')\n",
    "    elif name in  d_dwarves:\n",
    "        color_map.append('#808000')\n",
    "    elif name in  d_trolls:\n",
    "        color_map.append('#B8860B')\n",
    "    elif name in  d_werewolves:\n",
    "        color_map.append('#DCDCDC')\n",
    "    elif name in  d_ents:\n",
    "        color_map.append('#228B22')\n",
    "    elif name in  d_half_elven:\n",
    "        color_map.append('#98FB98')\n",
    "    elif name in  d_eagles:\n",
    "        color_map.append('#4B0082')\n",
    "    elif name in  d_dragons:\n",
    "        color_map.append('#800080')\n",
    "    elif name in  d_barlogs:\n",
    "        color_map.append('#800000')\n",
    "    elif name in  d_ainur:\n",
    "        color_map.append('#00FFFF')\n",
    "    elif name in  d_valars:\n",
    "        color_map.append('#FFFFF0')\n",
    "    elif name in  d_orcs:\n",
    "        color_map.append('#D2B48C')\n",
    "    elif name in  d_men:\n",
    "        color_map.append('#008080')\n",
    "    elif name in  d_maiar:\n",
    "        color_map.append('#000080')\n",
    "    elif name == 'manwë':\n",
    "        color_map.append('#FFFFF0')\n",
    "    elif name == 'sam':\n",
    "        color_map.append('#FFE4B5')\n",
    "    elif name == 'melkor':\n",
    "        color_map.append('#000080')\n",
    "    elif name =='pippin':\n",
    "        color_map.append('#FFE4B5')\n",
    "    else:\n",
    "        color_map.append('#000000')\n",
    "        names.remove(name)\n",
    "'''"
   ]
  },
  {
   "cell_type": "code",
   "execution_count": 32,
   "metadata": {},
   "outputs": [],
   "source": [
    "vect = CountVectorizer(vocabulary=names, stop_words='english')\n",
    "name_frequency = vect.fit_transform([tolkien_text.lower()])\n",
    "name_frequency = pd.DataFrame(name_frequency.toarray(), columns=vect.get_feature_names())\n",
    "name_frequency = name_frequency.T\n",
    "name_frequency = name_frequency.sort_values(by=0, ascending=False)\n",
    "#name_frequency = name_frequency[0:40]\n",
    "names = list(name_frequency.index)\n",
    "name_frequency = list(name_frequency[0])\n"
   ]
  },
  {
   "cell_type": "code",
   "execution_count": 33,
   "metadata": {},
   "outputs": [],
   "source": [
    "import pandas\n",
    "df = pd.DataFrame()"
   ]
  },
  {
   "cell_type": "code",
   "execution_count": 47,
   "metadata": {},
   "outputs": [],
   "source": [
    "\n"
   ]
  },
  {
   "cell_type": "code",
   "execution_count": 51,
   "metadata": {},
   "outputs": [],
   "source": [
    "'''name_vect = CountVectorizer(vocabulary=names, binary=True)\n",
    "occurrence_each_sentence = name_vect.fit_transform(all_sentences).toarray()\n",
    "cooccurrence_matrix = np.dot(occurrence_each_sentence.T, occurrence_each_sentence)\n",
    "cooccurrence_matrix = np.tril(cooccurrence_matrix)\n",
    "shape = cooccurrence_matrix.shape[0]\n",
    "cooccurrence_matrix[[range(shape)], [range(shape)]] = 0\n",
    "'''"
   ]
  },
  {
   "cell_type": "code",
   "execution_count": 164,
   "metadata": {},
   "outputs": [],
   "source": []
  },
  {
   "cell_type": "code",
   "execution_count": 165,
   "metadata": {},
   "outputs": [],
   "source": []
  },
  {
   "cell_type": "code",
   "execution_count": 166,
   "metadata": {},
   "outputs": [],
   "source": []
  },
  {
   "cell_type": "code",
   "execution_count": 34,
   "metadata": {},
   "outputs": [],
   "source": [
    "from afinn import Afinn\n",
    "afinn = Afinn()"
   ]
  },
  {
   "cell_type": "code",
   "execution_count": 35,
   "metadata": {},
   "outputs": [],
   "source": [
    "d = {}"
   ]
  },
  {
   "cell_type": "code",
   "execution_count": 36,
   "metadata": {},
   "outputs": [
    {
     "name": "stdout",
     "output_type": "stream",
     "text": [
      "1000\n",
      "2000\n",
      "3000\n",
      "4000\n",
      "5000\n",
      "6000\n",
      "7000\n",
      "8000\n",
      "9000\n",
      "10000\n",
      "11000\n",
      "12000\n",
      "13000\n",
      "14000\n",
      "15000\n",
      "16000\n",
      "17000\n"
     ]
    }
   ],
   "source": [
    "counter = 0\n",
    "for sent in ner_sentences:\n",
    "    counter += 1\n",
    "    if counter % 1000 == 0:\n",
    "        print(counter)\n",
    "    sent_names = []\n",
    "    for name in names:\n",
    "        if name in sent.lower().split():\n",
    "            sent_names.append(name)\n",
    "    #name_entity_recognition(sent,sent_names)\n",
    "    if len(sent_names) > 1:\n",
    "        for name1 in sent_names:\n",
    "            for name2 in sent_names:\n",
    "                if name1 != name2:\n",
    "                    key = \"\"\n",
    "                    if name1 < name2:\n",
    "                        key = name1 + \"#\" + name2\n",
    "                    else:\n",
    "                        key = name2 + \"#\" + name1\n",
    "                    if d.get(key) == None:\n",
    "                        d[key] =afinn.score(sent)\n",
    "                    else:\n",
    "                        d[key] = d[key]+afinn.score(sent)"
   ]
  },
  {
   "cell_type": "code",
   "execution_count": 37,
   "metadata": {},
   "outputs": [],
   "source": [
    "items_list= []\n",
    "for i in d.items():\n",
    "    l = []\n",
    "    line = list(i)[0].split('#')\n",
    "    for elem in line:\n",
    "        l.append(elem)\n",
    "    l.append(list(i)[1])\n",
    "    items_list.append(l)"
   ]
  },
  {
   "cell_type": "code",
   "execution_count": null,
   "metadata": {},
   "outputs": [],
   "source": []
  },
  {
   "cell_type": "code",
   "execution_count": 38,
   "metadata": {},
   "outputs": [],
   "source": [
    "sentiment_counter = -1"
   ]
  },
  {
   "cell_type": "code",
   "execution_count": 39,
   "metadata": {},
   "outputs": [],
   "source": [
    "sentiment_edge_colors = []\n",
    "for i in items_list:\n",
    "    if i[2] < -5:\n",
    "        sentiment_edge_colors.append('red')\n",
    "    if i[2] > 2:\n",
    "        sentiment_edge_colors.append('green')\n",
    "    else:\n",
    "        sentiment_edge_colors.append('blue')\n",
    "names1 = []\n",
    "names2 = []\n",
    "edge_colors = []\n",
    "\n",
    "for i in items_list:\n",
    "    sentiment_counter += 1\n",
    "    names1.append(i[0])\n",
    "    names2.append(i[1])\n",
    "    edge_colors.append(sentiment_edge_colors[sentiment_counter])"
   ]
  },
  {
   "cell_type": "code",
   "execution_count": 40,
   "metadata": {},
   "outputs": [],
   "source": [
    "label_colors = []\n",
    "for name in names1:\n",
    "        label_colors.append(color_map[name])\n",
    "    "
   ]
  },
  {
   "cell_type": "code",
   "execution_count": 214,
   "metadata": {},
   "outputs": [
    {
     "data": {
      "text/plain": [
       "'just_colors = []\\ntrird = []\\n\\nfor name in names:\\n    all_neigbours = []\\n    for pair in half_dat:\\n        if name in pair:\\n            if name == pair[0]:\\n                all_neigbours.append(name)\\n                all_neigbours.append(pair[1])\\n    just_colors.append(pair[2])\\n    trird.append(all_neigbours)\\n'"
      ]
     },
     "execution_count": 214,
     "metadata": {},
     "output_type": "execute_result"
    }
   ],
   "source": [
    "'''just_colors = []\n",
    "trird = []\n",
    "\n",
    "for name in names:\n",
    "    all_neigbours = []\n",
    "    for pair in half_dat:\n",
    "        if name in pair:\n",
    "            if name == pair[0]:\n",
    "                all_neigbours.append(name)\n",
    "                all_neigbours.append(pair[1])\n",
    "    just_colors.append(pair[2])\n",
    "    trird.append(all_neigbours)\n",
    "'''"
   ]
  },
  {
   "cell_type": "code",
   "execution_count": 215,
   "metadata": {},
   "outputs": [
    {
     "data": {
      "text/plain": [
       "'edges_list = []\\nfor pair in half_dat:\\n    one_edge = []\\n    e0 = pair[0]\\n    e0 = \\'\"\\' + e0 + \\'\"\\'\\n    e1 = pair[1]\\n    e1 = \\'\"\\' + e1 + \\'\"\\'\\n    one_edge.append(e0)\\n    one_edge.append(e1)\\n    elem = \\',\\'.join(one_edge)\\n    edges_list.append(elem)\\n#print(edges_list)\\n'"
      ]
     },
     "execution_count": 215,
     "metadata": {},
     "output_type": "execute_result"
    }
   ],
   "source": [
    "'''edges_list = []\n",
    "for pair in half_dat:\n",
    "    one_edge = []\n",
    "    e0 = pair[0]\n",
    "    e0 = '\\\"' + e0 + '\\\"'\n",
    "    e1 = pair[1]\n",
    "    e1 = '\\\"' + e1 + '\\\"'\n",
    "    one_edge.append(e0)\n",
    "    one_edge.append(e1)\n",
    "    elem = ','.join(one_edge)\n",
    "    edges_list.append(elem)\n",
    "#print(edges_list)\n",
    "'''"
   ]
  },
  {
   "cell_type": "code",
   "execution_count": 216,
   "metadata": {},
   "outputs": [
    {
     "data": {
      "text/plain": [
       "'itog = []\\nfor i in names1:\\n    for i in names2:\\n        itog.append(\\'\"\\'+i+\\'\"\\')\\nprint(\\',\\'.join(itog))\\n'"
      ]
     },
     "execution_count": 216,
     "metadata": {},
     "output_type": "execute_result"
    }
   ],
   "source": [
    "'''itog = []\n",
    "for i in names1:\n",
    "    for i in names2:\n",
    "        itog.append('\\\"'+i+'\\\"')\n",
    "print(','.join(itog))\n",
    "'''"
   ]
  },
  {
   "cell_type": "code",
   "execution_count": null,
   "metadata": {},
   "outputs": [],
   "source": []
  },
  {
   "cell_type": "code",
   "execution_count": 217,
   "metadata": {},
   "outputs": [
    {
     "name": "stdout",
     "output_type": "stream",
     "text": [
      "499\n",
      "499\n",
      "872\n",
      "872\n",
      "872\n"
     ]
    }
   ],
   "source": [
    "print(len(color_map))\n",
    "print(len(names))\n",
    "print(len(names1))\n",
    "print(len(names2))\n",
    "print(len(label_colors))"
   ]
  },
  {
   "cell_type": "code",
   "execution_count": 218,
   "metadata": {},
   "outputs": [
    {
     "name": "stdout",
     "output_type": "stream",
     "text": [
      "872\n"
     ]
    }
   ],
   "source": [
    "print(len(edge_colors))"
   ]
  },
  {
   "cell_type": "code",
   "execution_count": 41,
   "metadata": {},
   "outputs": [],
   "source": [
    "data = {'name1': names1,'name2': names2,'label_color': label_colors,'edge_color': edge_colors}\n",
    "\n",
    "data_df = pd.DataFrame.from_dict(data)"
   ]
  },
  {
   "cell_type": "code",
   "execution_count": 42,
   "metadata": {},
   "outputs": [
    {
     "data": {
      "text/html": [
       "<div>\n",
       "<style scoped>\n",
       "    .dataframe tbody tr th:only-of-type {\n",
       "        vertical-align: middle;\n",
       "    }\n",
       "\n",
       "    .dataframe tbody tr th {\n",
       "        vertical-align: top;\n",
       "    }\n",
       "\n",
       "    .dataframe thead th {\n",
       "        text-align: right;\n",
       "    }\n",
       "</style>\n",
       "<table border=\"1\" class=\"dataframe\">\n",
       "  <thead>\n",
       "    <tr style=\"text-align: right;\">\n",
       "      <th></th>\n",
       "      <th>name1</th>\n",
       "      <th>name2</th>\n",
       "      <th>label_color</th>\n",
       "      <th>edge_color</th>\n",
       "    </tr>\n",
       "  </thead>\n",
       "  <tbody>\n",
       "    <tr>\n",
       "      <th>0</th>\n",
       "      <td>ainur</td>\n",
       "      <td>the</td>\n",
       "      <td>#00FFFF</td>\n",
       "      <td>green</td>\n",
       "    </tr>\n",
       "    <tr>\n",
       "      <th>1</th>\n",
       "      <td>great</td>\n",
       "      <td>the</td>\n",
       "      <td>#D2B48C</td>\n",
       "      <td>green</td>\n",
       "    </tr>\n",
       "    <tr>\n",
       "      <th>2</th>\n",
       "      <td>melkor</td>\n",
       "      <td>the</td>\n",
       "      <td>#FFFFF0</td>\n",
       "      <td>red</td>\n",
       "    </tr>\n",
       "    <tr>\n",
       "      <th>3</th>\n",
       "      <td>ainur</td>\n",
       "      <td>melkor</td>\n",
       "      <td>#00FFFF</td>\n",
       "      <td>blue</td>\n",
       "    </tr>\n",
       "    <tr>\n",
       "      <th>4</th>\n",
       "      <td>one</td>\n",
       "      <td>the</td>\n",
       "      <td>#FFE4B5</td>\n",
       "      <td>red</td>\n",
       "    </tr>\n",
       "    <tr>\n",
       "      <th>...</th>\n",
       "      <td>...</td>\n",
       "      <td>...</td>\n",
       "      <td>...</td>\n",
       "      <td>...</td>\n",
       "    </tr>\n",
       "    <tr>\n",
       "      <th>1391</th>\n",
       "      <td>merry</td>\n",
       "      <td>smaug</td>\n",
       "      <td>#FFE4B5</td>\n",
       "      <td>green</td>\n",
       "    </tr>\n",
       "    <tr>\n",
       "      <th>1392</th>\n",
       "      <td>balin</td>\n",
       "      <td>merry</td>\n",
       "      <td>#808000</td>\n",
       "      <td>green</td>\n",
       "    </tr>\n",
       "    <tr>\n",
       "      <th>1393</th>\n",
       "      <td>balin</td>\n",
       "      <td>smaug</td>\n",
       "      <td>#808000</td>\n",
       "      <td>green</td>\n",
       "    </tr>\n",
       "    <tr>\n",
       "      <th>1394</th>\n",
       "      <td>fili</td>\n",
       "      <td>smaug</td>\n",
       "      <td>#808000</td>\n",
       "      <td>blue</td>\n",
       "    </tr>\n",
       "    <tr>\n",
       "      <th>1395</th>\n",
       "      <td>kili</td>\n",
       "      <td>smaug</td>\n",
       "      <td>#808000</td>\n",
       "      <td>blue</td>\n",
       "    </tr>\n",
       "  </tbody>\n",
       "</table>\n",
       "<p>1396 rows × 4 columns</p>\n",
       "</div>"
      ],
      "text/plain": [
       "       name1   name2 label_color edge_color\n",
       "0      ainur     the     #00FFFF      green\n",
       "1      great     the     #D2B48C      green\n",
       "2     melkor     the     #FFFFF0        red\n",
       "3      ainur  melkor     #00FFFF       blue\n",
       "4        one     the     #FFE4B5        red\n",
       "...      ...     ...         ...        ...\n",
       "1391   merry   smaug     #FFE4B5      green\n",
       "1392   balin   merry     #808000      green\n",
       "1393   balin   smaug     #808000      green\n",
       "1394    fili   smaug     #808000       blue\n",
       "1395    kili   smaug     #808000       blue\n",
       "\n",
       "[1396 rows x 4 columns]"
      ]
     },
     "execution_count": 42,
     "metadata": {},
     "output_type": "execute_result"
    }
   ],
   "source": [
    "data_df"
   ]
  },
  {
   "cell_type": "code",
   "execution_count": 221,
   "metadata": {},
   "outputs": [],
   "source": [
    "data_df.to_csv('data_df.csv')"
   ]
  }
 ],
 "metadata": {
  "kernelspec": {
   "display_name": "Python 3",
   "language": "python",
   "name": "python3"
  },
  "language_info": {
   "codemirror_mode": {
    "name": "ipython",
    "version": 3
   },
   "file_extension": ".py",
   "mimetype": "text/x-python",
   "name": "python",
   "nbconvert_exporter": "python",
   "pygments_lexer": "ipython3",
   "version": "3.8.3"
  }
 },
 "nbformat": 4,
 "nbformat_minor": 4
}
